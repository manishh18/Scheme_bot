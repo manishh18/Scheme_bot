{
 "cells": [
  {
   "cell_type": "code",
   "execution_count": 6,
   "id": "03125114",
   "metadata": {},
   "outputs": [
    {
     "name": "stdout",
     "output_type": "stream",
     "text": [
      "Processed 193 files. Output saved to embedding_ready3.txt\n"
     ]
    }
   ],
   "source": [
    "import os\n",
    "import json\n",
    "\n",
    "def json_to_embedding_text(data: dict, prefix=\"\") -> str:\n",
    "    lines = []\n",
    "    for key, value in data.items():\n",
    "        full_key = f\"{prefix}{key}\" if prefix == \"\" else f\"{prefix}.{key}\"\n",
    "        if isinstance(value, dict):\n",
    "            lines.append(json_to_embedding_text(value, prefix=full_key))\n",
    "        elif isinstance(value, list):\n",
    "            lines.append(f\"{full_key}:\")\n",
    "            lines.extend([f\"- {v}\" for v in value])\n",
    "        else:\n",
    "            lines.append(f\"{full_key}: {value}\")\n",
    "    return \"\\n\".join(lines)\n",
    "\n",
    "def process_json_folder(folder_path: str, output_file: str):\n",
    "    all_texts = []\n",
    "    \n",
    "    for filename in os.listdir(folder_path):\n",
    "        if filename.endswith(\".json\"):\n",
    "            file_path = os.path.join(folder_path, filename)\n",
    "            with open(file_path, \"r\", encoding=\"utf-8\") as f:\n",
    "                try:\n",
    "                    data = json.load(f)\n",
    "                    text = json_to_embedding_text(data)\n",
    "                    all_texts.append(f\"### File: {filename}\\n{text}\\n\")\n",
    "                except json.JSONDecodeError as e:\n",
    "                    print(f\"Skipping {filename}: invalid JSON - {e}\")\n",
    "    \n",
    "    with open(output_file, \"w\", encoding=\"utf-8\") as f_out:\n",
    "        f_out.write(\"\\n\\n\".join(all_texts))\n",
    "    print(f\"Processed {len(all_texts)} files. Output saved to {output_file}\")\n",
    "\n",
    "# Example usage\n",
    "folder_path = r\"C:\\Users\\yashr\\OneDrive\\Documents\\json fieles\\601 - 800\"\n",
    "output_file = \"embedding_ready3.txt\"\n",
    "process_json_folder(folder_path, output_file)\n"
   ]
  },
  {
   "cell_type": "code",
   "execution_count": null,
   "id": "b7d857ab",
   "metadata": {},
   "outputs": [],
   "source": []
  }
 ],
 "metadata": {
  "kernelspec": {
   "display_name": "Python 3",
   "language": "python",
   "name": "python3"
  },
  "language_info": {
   "codemirror_mode": {
    "name": "ipython",
    "version": 3
   },
   "file_extension": ".py",
   "mimetype": "text/x-python",
   "name": "python",
   "nbconvert_exporter": "python",
   "pygments_lexer": "ipython3",
   "version": "3.13.2"
  }
 },
 "nbformat": 4,
 "nbformat_minor": 5
}
